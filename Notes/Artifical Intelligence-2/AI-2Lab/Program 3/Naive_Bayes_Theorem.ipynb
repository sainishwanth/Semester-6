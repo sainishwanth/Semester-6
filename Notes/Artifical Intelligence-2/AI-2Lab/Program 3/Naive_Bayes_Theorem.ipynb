{
 "cells": [
  {
   "cell_type": "code",
   "execution_count": 1,
   "metadata": {
    "id": "GlPP6NoCkxEe"
   },
   "outputs": [],
   "source": [
    "#p(D)\n",
    "p_diabetes = 0.01"
   ]
  },
  {
   "cell_type": "code",
   "execution_count": 2,
   "metadata": {
    "id": "7CfiWBFik72c"
   },
   "outputs": [],
   "source": [
    "#p(`D)\n",
    "p_no_diabetes = 0.99"
   ]
  },
  {
   "cell_type": "code",
   "execution_count": 3,
   "metadata": {
    "id": "lko44hwUvrFe"
   },
   "outputs": [],
   "source": [
    "# Sensitivity or p(pos|D)\n",
    "p_pos_diabetes = 0.9"
   ]
  },
  {
   "cell_type": "code",
   "execution_count": 4,
   "metadata": {
    "id": "KJ3EHxjiw9zn"
   },
   "outputs": [],
   "source": [
    "# Specificity or p(Neg/`D)\n",
    "p_neg_no_diabetes = 0.9"
   ]
  },
  {
   "cell_type": "code",
   "execution_count": 5,
   "metadata": {
    "colab": {
     "base_uri": "https://localhost:8080/"
    },
    "id": "FQNK6i_nxNjQ",
    "outputId": "bd9f349c-5de3-4368-8585-652e61cfcb27"
   },
   "outputs": [
    {
     "name": "stdout",
     "output_type": "stream",
     "text": [
      "The probability of getting a positive test result p(pos) is: {} 0.10799999999999998\n"
     ]
    }
   ],
   "source": [
    "#p(pos)\n",
    "p_pos = (p_diabetes *p_pos_diabetes) + (p_no_diabetes *(1-p_neg_no_diabetes))\n",
    "print('The probability of getting a positive test result p(pos) is: {}', format(p_pos))"
   ]
  },
  {
   "cell_type": "code",
   "execution_count": 6,
   "metadata": {
    "colab": {
     "base_uri": "https://localhost:8080/"
    },
    "id": "jTB87wtFyb4p",
    "outputId": "92fcf5d1-d8a0-41d7-e03f-b3dc65961039"
   },
   "outputs": [
    {
     "name": "stdout",
     "output_type": "stream",
     "text": [
      "Probability of an individual having diabetes:given that individual got a positive test result is : 0.08333333333333336\n"
     ]
    }
   ],
   "source": [
    "# Using p(pos) we can calculate p(D|Pos)\n",
    "#p(D|Pos)\n",
    "p_diabetes_pos = (p_diabetes * p_pos_diabetes) / p_pos\n",
    "print('Probability of an individual having diabetes:given that individual got a positive test result is :', format(p_diabetes_pos))"
   ]
  }
 ],
 "metadata": {
  "colab": {
   "provenance": []
  },
  "kernelspec": {
   "display_name": "Python 3 (ipykernel)",
   "language": "python",
   "name": "python3"
  },
  "language_info": {
   "codemirror_mode": {
    "name": "ipython",
    "version": 3
   },
   "file_extension": ".py",
   "mimetype": "text/x-python",
   "name": "python",
   "nbconvert_exporter": "python",
   "pygments_lexer": "ipython3",
   "version": "3.10.8"
  }
 },
 "nbformat": 4,
 "nbformat_minor": 4
}
