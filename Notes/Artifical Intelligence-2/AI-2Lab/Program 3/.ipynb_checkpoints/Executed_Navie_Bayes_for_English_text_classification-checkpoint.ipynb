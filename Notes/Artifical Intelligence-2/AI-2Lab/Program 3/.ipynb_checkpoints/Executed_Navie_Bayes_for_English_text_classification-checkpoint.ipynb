{
  "nbformat": 4,
  "nbformat_minor": 0,
  "metadata": {
    "colab": {
      "provenance": []
    },
    "kernelspec": {
      "name": "python3",
      "display_name": "Python 3"
    },
    "language_info": {
      "name": "python"
    }
  },
  "cells": [
    {
      "cell_type": "code",
      "execution_count": null,
      "metadata": {
        "id": "hdXLmuHzwiSl"
      },
      "outputs": [],
      "source": [
        "import re\n",
        "from collections import defaultdict"
      ]
    },
    {
      "cell_type": "code",
      "source": [
        "  class NaiveBayes:\n",
        "    \n",
        "    def __init__(self, classes):\n",
        "        self.classes = classes\n",
        "        self.vocab = set()\n",
        "        self.class_word_counts = defaultdict(lambda: defaultdict(int))\n",
        "        self.class_doc_counts = defaultdict(int)\n",
        "        self.num_docs = 0\n",
        "        \n",
        "    def preprocess(self, text):\n",
        "        # Remove punctuations and convert to lowercase\n",
        "        text = re.sub(r'[^\\w\\s]', '', text).lower()\n",
        "        # Remove stop words\n",
        "        stop_words = set(['a', 'an', 'the', 'in', 'on', 'at', 'of', 'to', 'for', 'by', 'with', 'from', 'and'])\n",
        "        tokens = text.split()\n",
        "        tokens = [token for token in tokens if token not in stop_words]\n",
        "        return tokens\n",
        "        \n",
        "    def train(self, documents):\n",
        "        for document, category in documents:\n",
        "            tokens = self.preprocess(document)\n",
        "            self.vocab.update(tokens)\n",
        "            self.class_doc_counts[category] += 1\n",
        "            self.num_docs += 1\n",
        "            for word in tokens:\n",
        "                self.class_word_counts[category][word] += 1\n",
        "        \n",
        "    def predict(self, document):\n",
        "        tokens = self.preprocess(document)\n",
        "        posteriors = {category: 0 for category in self.classes}\n",
        "        for category in self.classes:\n",
        "            prior = self.class_doc_counts[category] / self.num_docs\n",
        "            posterior = prior\n",
        "            for word in tokens:\n",
        "                word_count = self.class_word_counts[category][word]\n",
        "                total_count = sum(self.class_word_counts[category].values())\n",
        "                conditional = word_count / total_count\n",
        "                posterior *= conditional\n",
        "            posteriors[category] = posterior\n",
        "        return max(posteriors, key=posteriors.get)"
      ],
      "metadata": {
        "id": "9tMfPTE2wyA1"
      },
      "execution_count": null,
      "outputs": []
    },
    {
      "cell_type": "code",
      "source": [
        "docs = [\n",
        "    ('Its hot outside', 'weather'),\n",
        "    ('flight is at 6', 'flight'),\n",
        "    ('The news is good', 'politics'),\n",
        "    ('The economy is decreasing', 'economy'),\n",
        "    ('The movie was great', 'entertainment'),\n",
        "    ('I love pizza', 'food'),\n",
        "    ('The game was exciting', 'sports'),\n",
        "    ('The team played poorly', 'sports'),\n",
        "    ('The election is coming up', 'politics'),\n",
        "]\n",
        "\n",
        "nb = NaiveBayes(['weather', 'flight', 'politics', 'economy', 'entertainment', 'food','sports'])\n",
        "nb.train(docs)\n",
        "\n",
        "# Predict the category of a new document\n",
        "new_doc1 = 'its hot outside '\n",
        "new_doc2 = 'flight  at 6'\n",
        "new_doc3 = 'The economy is decreasing'\n",
        "category1 = nb.predict(new_doc1)\n",
        "category2 = nb.predict(new_doc2)\n",
        "category3 = nb.predict(new_doc3)\n",
        "print(f'The document \"{new_doc1}\" belongs to the category \"{category1}\"')\n",
        "print(f'The document \"{new_doc2}\" belongs to the category \"{category2}\"')\n",
        "print(f'The document \"{new_doc3}\" belongs to the category \"{category3}\"')"
      ],
      "metadata": {
        "colab": {
          "base_uri": "https://localhost:8080/"
        },
        "id": "uDRX-1B9w1lk",
        "outputId": "40b2bc19-2c3b-44f4-9c03-ead19d015844"
      },
      "execution_count": null,
      "outputs": [
        {
          "output_type": "stream",
          "name": "stdout",
          "text": [
            "The document \"its hot outside \" belongs to the category \"weather\"\n",
            "The document \"flight  at 6\" belongs to the category \"flight\"\n",
            "The document \"The economy is improving\" belongs to the category \"weather\"\n"
          ]
        }
      ]
    },
    {
      "cell_type": "code",
      "source": [],
      "metadata": {
        "id": "7K11n6qrztmV"
      },
      "execution_count": null,
      "outputs": []
    }
  ]
}