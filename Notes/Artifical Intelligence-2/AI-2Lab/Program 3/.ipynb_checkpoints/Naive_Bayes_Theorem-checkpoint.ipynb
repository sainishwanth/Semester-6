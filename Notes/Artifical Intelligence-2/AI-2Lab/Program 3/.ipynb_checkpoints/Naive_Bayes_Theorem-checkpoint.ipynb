{
  "nbformat": 4,
  "nbformat_minor": 0,
  "metadata": {
    "colab": {
      "provenance": []
    },
    "kernelspec": {
      "name": "python3",
      "display_name": "Python 3"
    },
    "language_info": {
      "name": "python"
    }
  },
  "cells": [
    {
      "cell_type": "code",
      "execution_count": null,
      "metadata": {
        "id": "GlPP6NoCkxEe"
      },
      "outputs": [],
      "source": [
        "#p(D)\n",
        "p_diabetes = 0.01"
      ]
    },
    {
      "cell_type": "code",
      "source": [
        "#p(`D)\n",
        "p_no_diabetes = 0.99"
      ],
      "metadata": {
        "id": "7CfiWBFik72c"
      },
      "execution_count": null,
      "outputs": []
    },
    {
      "cell_type": "code",
      "source": [
        "# Sensitivity or p(pos|D)\n",
        "p_pos_diabetes = 0.9"
      ],
      "metadata": {
        "id": "lko44hwUvrFe"
      },
      "execution_count": null,
      "outputs": []
    },
    {
      "cell_type": "code",
      "source": [
        "# Specificity or p(Neg/`D)\n",
        "p_neg_no_diabetes = 0.9"
      ],
      "metadata": {
        "id": "KJ3EHxjiw9zn"
      },
      "execution_count": null,
      "outputs": []
    },
    {
      "cell_type": "code",
      "source": [
        "#p(pos)\n",
        "p_pos = (p_diabetes *p_pos_diabetes) + (p_no_diabetes *(1-p_neg_no_diabetes))\n",
        "print('The probability of getting a positive test result p(pos) is: {}', format(p_pos))"
      ],
      "metadata": {
        "colab": {
          "base_uri": "https://localhost:8080/"
        },
        "id": "FQNK6i_nxNjQ",
        "outputId": "bd9f349c-5de3-4368-8585-652e61cfcb27"
      },
      "execution_count": null,
      "outputs": [
        {
          "output_type": "stream",
          "name": "stdout",
          "text": [
            "The probability of getting a positive test result p(pos) is: {} 0.10799999999999998\n"
          ]
        }
      ]
    },
    {
      "cell_type": "code",
      "source": [
        "# Using p(pos) we can calculate p(D|Pos)\n",
        "#p(D|Pos)\n",
        "p_diabetes_pos = (p_diabetes * p_pos_diabetes) / p_pos\n",
        "print('Probability of an individual having diabetes:given that individual got a positive test result is :', format(p_diabetes_pos))"
      ],
      "metadata": {
        "colab": {
          "base_uri": "https://localhost:8080/"
        },
        "id": "jTB87wtFyb4p",
        "outputId": "92fcf5d1-d8a0-41d7-e03f-b3dc65961039"
      },
      "execution_count": null,
      "outputs": [
        {
          "output_type": "stream",
          "name": "stdout",
          "text": [
            "Probability of an individual having diabetes:given that individual got a positive test result is : 0.08333333333333336\n"
          ]
        }
      ]
    }
  ]
}