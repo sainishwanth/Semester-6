{
 "cells": [
  {
   "cell_type": "code",
   "execution_count": 72,
   "metadata": {
    "id": "hdXLmuHzwiSl"
   },
   "outputs": [],
   "source": [
    "import re\n",
    "from collections import defaultdict"
   ]
  },
  {
   "cell_type": "code",
   "execution_count": 73,
   "metadata": {
    "id": "9tMfPTE2wyA1"
   },
   "outputs": [],
   "source": [
    "  class NaiveBayes:\n",
    "    \n",
    "    def __init__(self, classes):\n",
    "        self.classes = classes\n",
    "        self.vocab = set()\n",
    "        self.class_word_counts = defaultdict(lambda: defaultdict(int))\n",
    "        self.class_doc_counts = defaultdict(int)\n",
    "        self.num_docs = 0\n",
    "        \n",
    "    def preprocess(self, text):\n",
    "        # Remove punctuations and convert to lowercase\n",
    "        text = re.sub(r'[^\\w\\s]', '', text).lower()\n",
    "        # Remove stop words\n",
    "        stop_words = set(['a', 'an', 'the', 'in', 'on', 'at', 'of', 'to', 'for', 'by', 'with', 'from', 'and'])\n",
    "        tokens = text.split()\n",
    "        tokens = [token for token in tokens if token not in stop_words]\n",
    "        return tokens\n",
    "        \n",
    "    def train(self, documents):\n",
    "        for document, category in documents:\n",
    "            tokens = self.preprocess(document)\n",
    "            self.vocab.update(tokens)\n",
    "            self.class_doc_counts[category] += 1\n",
    "            self.num_docs += 1\n",
    "            for word in tokens:\n",
    "                self.class_word_counts[category][word] += 1\n",
    "        \n",
    "    def predict(self, documents):\n",
    "        lst = []\n",
    "        for document in documents:\n",
    "            print(document)\n",
    "            tokens = self.preprocess(document)\n",
    "            posteriors = {category: 0 for category in self.classes}\n",
    "            for category in self.classes:\n",
    "                prior = self.class_doc_counts[category] / self.num_docs\n",
    "                posterior = prior\n",
    "                for word in tokens:\n",
    "                    word_count = self.class_word_counts[category][word]\n",
    "                    total_count = sum(self.class_word_counts[category].values())\n",
    "                    conditional = word_count / total_count\n",
    "                    posterior *= conditional\n",
    "                posteriors[category] = posterior\n",
    "            lst.append(max(posteriors, key=posteriors.get))\n",
    "        return lst"
   ]
  },
  {
   "cell_type": "code",
   "execution_count": 74,
   "metadata": {
    "colab": {
     "base_uri": "https://localhost:8080/"
    },
    "id": "uDRX-1B9w1lk",
    "outputId": "40b2bc19-2c3b-44f4-9c03-ead19d015844"
   },
   "outputs": [
    {
     "name": "stdout",
     "output_type": "stream",
     "text": [
      "hot flight is at 6\n"
     ]
    },
    {
     "data": {
      "text/plain": [
       "['weather']"
      ]
     },
     "execution_count": 74,
     "metadata": {},
     "output_type": "execute_result"
    }
   ],
   "source": [
    "docs = [\n",
    "    ('Its hot outside', 'weather'),\n",
    "    ('flight is at 6', 'flight'),\n",
    "    ('The news is good', 'politics'),\n",
    "    ('The economy is decreasing', 'economy'),\n",
    "    ('The movie was great', 'entertainment'),\n",
    "    ('I love pizza', 'food'),\n",
    "    ('The game was exciting', 'sports'),\n",
    "    ('The team played poorly', 'sports'),\n",
    "    ('The election is coming up', 'politics'),O\n",
    "]\n",
    "\n",
    "nb = NaiveBayes(['weather', 'flight', 'politics', 'economy', 'entertainment', 'food','sports'])\n",
    "nb.train(docs)\n",
    "\n",
    "# Predict the category of a new document\n",
    "new_doc = ['hot flight is at 6']\n",
    "category = nb.predict(new_doc)\n",
    "category"
   ]
  },
  {
   "cell_type": "code",
   "execution_count": null,
   "metadata": {
    "id": "7K11n6qrztmV"
   },
   "outputs": [],
   "source": []
  }
 ],
 "metadata": {
  "colab": {
   "provenance": []
  },
  "kernelspec": {
   "display_name": "Python 3 (ipykernel)",
   "language": "python",
   "name": "python3"
  },
  "language_info": {
   "codemirror_mode": {
    "name": "ipython",
    "version": 3
   },
   "file_extension": ".py",
   "mimetype": "text/x-python",
   "name": "python",
   "nbconvert_exporter": "python",
   "pygments_lexer": "ipython3",
   "version": "3.10.8"
  }
 },
 "nbformat": 4,
 "nbformat_minor": 4
}
