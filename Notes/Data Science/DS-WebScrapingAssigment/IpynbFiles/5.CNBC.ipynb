{
 "cells": [
  {
   "cell_type": "code",
   "execution_count": 8,
   "id": "56d9f0a2-f09b-4830-b175-c0fe46cf00fb",
   "metadata": {
    "collapsed": false,
    "jupyter": {
     "outputs_hidden": false
    }
   },
   "outputs": [],
   "source": [
    "import requests\n",
    "from bs4 import BeautifulSoup\n",
    "import pandas as pd"
   ]
  },
  {
   "cell_type": "code",
   "execution_count": 9,
   "id": "58f9979b-9cf1-4e20-bcb7-3dc3081e0ee9",
   "metadata": {
    "collapsed": false,
    "jupyter": {
     "outputs_hidden": false
    }
   },
   "outputs": [],
   "source": [
    "URL = \"https://www.cnbc.com/world/?region=world:\"\n",
    "header = {'User-Agent': \"Mozilla/5.0 (Macintosh; Intel Mac OS X 10_15_7) AppleWebKit/537.36 (KHTML, like Gecko) Chrome/96.0.4664.110 Safari/537.36\"}"
   ]
  },
  {
   "cell_type": "code",
   "execution_count": 10,
   "id": "a1cc163d-3cb7-4dbc-92d2-446b3902672f",
   "metadata": {
    "collapsed": false,
    "jupyter": {
     "outputs_hidden": false
    }
   },
   "outputs": [],
   "source": [
    "page = requests.get(URL, headers=header)\n",
    "soup = BeautifulSoup(page.content, 'html.parser')\n",
    "lst = []"
   ]
  },
  {
   "cell_type": "code",
   "execution_count": 11,
   "id": "0824a585-a72a-40a9-bcd0-3c48b96c43b1",
   "metadata": {
    "collapsed": false,
    "jupyter": {
     "outputs_hidden": false
    }
   },
   "outputs": [],
   "source": [
    "# Headline News\n",
    "headline = soup.find(\"h2\", class_ = \"FeaturedCard-packagedCardTitle\").find(\"a\")\n",
    "lst.append([\"0 hours ago\",headline.contents[0], headline['href']])"
   ]
  },
  {
   "cell_type": "code",
   "execution_count": 12,
   "id": "a30cd52b-1058-430f-8cce-7292ccdba27a",
   "metadata": {
    "collapsed": false,
    "jupyter": {
     "outputs_hidden": false
    }
   },
   "outputs": [],
   "source": [
    "# Latest News\n",
    "count = 1\n",
    "latest_header = soup.find_all(\"div\", class_ = \"LatestNews-headlineWrapper\")\n",
    "for headings in latest_header:\n",
    "    time = headings.find(\"time\", \"LatestNews-timestamp\").contents[0]\n",
    "    heading = headings.find('a')\n",
    "    lst.append([time,heading.contents[0], heading['href']])"
   ]
  },
  {
   "cell_type": "code",
   "execution_count": 17,
   "id": "57c3b37f-2d94-45d3-8284-382967be7d8a",
   "metadata": {
    "collapsed": false,
    "jupyter": {
     "outputs_hidden": false
    }
   },
   "outputs": [],
   "source": [
    "# Preprocessing\n",
    "df = pd.DataFrame(lst, columns=[\"Time\", \"Article\", \"Link\"])\n",
    "drop_lst = []\n",
    "count = 0\n",
    "for i in df[\"Link\"]:\n",
    "    if i[0] != 'h':\n",
    "        drop_lst.append(count)\n",
    "    count += 1"
   ]
  },
  {
   "cell_type": "code",
   "execution_count": 18,
   "id": "820340be-c5fd-411f-9925-327d21b3b59d",
   "metadata": {
    "collapsed": false,
    "jupyter": {
     "outputs_hidden": false
    }
   },
   "outputs": [
    {
     "data": {
      "text/html": [
       "<div>\n",
       "<style scoped>\n",
       "    .dataframe tbody tr th:only-of-type {\n",
       "        vertical-align: middle;\n",
       "    }\n",
       "\n",
       "    .dataframe tbody tr th {\n",
       "        vertical-align: top;\n",
       "    }\n",
       "\n",
       "    .dataframe thead th {\n",
       "        text-align: right;\n",
       "    }\n",
       "</style>\n",
       "<table border=\"1\" class=\"dataframe\">\n",
       "  <thead>\n",
       "    <tr style=\"text-align: right;\">\n",
       "      <th></th>\n",
       "      <th>Time</th>\n",
       "      <th>Article</th>\n",
       "      <th>Link</th>\n",
       "    </tr>\n",
       "  </thead>\n",
       "  <tbody>\n",
       "    <tr>\n",
       "      <th>0</th>\n",
       "      <td>0 hours ago</td>\n",
       "      <td>Nothing comes for free: What China hopes to ga...</td>\n",
       "      <td>https://www.cnbc.com/2023/03/21/what-does-chin...</td>\n",
       "    </tr>\n",
       "    <tr>\n",
       "      <th>1</th>\n",
       "      <td>44 Min Ago</td>\n",
       "      <td>Virgin Orbit returning 'small' team from unpai...</td>\n",
       "      <td>https://www.cnbc.com/2023/03/22/virgin-orbit-r...</td>\n",
       "    </tr>\n",
       "    <tr>\n",
       "      <th>2</th>\n",
       "      <td>1 Hour Ago</td>\n",
       "      <td>Digital currency firms look to Swiss banks af...</td>\n",
       "      <td>https://www.cnbc.com/2023/03/22/crypto-firms-l...</td>\n",
       "    </tr>\n",
       "    <tr>\n",
       "      <th>3</th>\n",
       "      <td>2 Hours Ago</td>\n",
       "      <td>Finland gives away free trips to travelers who...</td>\n",
       "      <td>https://www.cnbc.com/2023/03/22/finland-gives-...</td>\n",
       "    </tr>\n",
       "    <tr>\n",
       "      <th>7</th>\n",
       "      <td>4 Hours Ago</td>\n",
       "      <td>Traveling to Asia for work? This city is its m...</td>\n",
       "      <td>https://www.cnbc.com/2023/03/22/hong-kong-reta...</td>\n",
       "    </tr>\n",
       "    <tr>\n",
       "      <th>8</th>\n",
       "      <td>5 Hours Ago</td>\n",
       "      <td>Hong Kong rises almost 2%, leading gains in As...</td>\n",
       "      <td>https://www.cnbc.com/2023/03/22/asia-markets-s...</td>\n",
       "    </tr>\n",
       "    <tr>\n",
       "      <th>9</th>\n",
       "      <td>5 Hours Ago</td>\n",
       "      <td>CNBC Daily Open: Regional banks popped — but c...</td>\n",
       "      <td>https://www.cnbc.com/2023/03/22/stock-markets-...</td>\n",
       "    </tr>\n",
       "    <tr>\n",
       "      <th>11</th>\n",
       "      <td>6 Hours Ago</td>\n",
       "      <td>Cramer says investors need to take 'longer vie...</td>\n",
       "      <td>https://www.cnbc.com/2023/03/21/jim-cramer-say...</td>\n",
       "    </tr>\n",
       "    <tr>\n",
       "      <th>12</th>\n",
       "      <td>6 Hours Ago</td>\n",
       "      <td>Stock futures are flat ahead of key Fed policy...</td>\n",
       "      <td>https://www.cnbc.com/2023/03/21/stock-market-t...</td>\n",
       "    </tr>\n",
       "    <tr>\n",
       "      <th>14</th>\n",
       "      <td>7 Hours Ago</td>\n",
       "      <td>Registries in the carbon offset market are all...</td>\n",
       "      <td>https://www.cnbc.com/2023/03/21/registries-in-...</td>\n",
       "    </tr>\n",
       "  </tbody>\n",
       "</table>\n",
       "</div>"
      ],
      "text/plain": [
       "           Time                                            Article  \\\n",
       "0   0 hours ago  Nothing comes for free: What China hopes to ga...   \n",
       "1    44 Min Ago  Virgin Orbit returning 'small' team from unpai...   \n",
       "2    1 Hour Ago   Digital currency firms look to Swiss banks af...   \n",
       "3   2 Hours Ago  Finland gives away free trips to travelers who...   \n",
       "7   4 Hours Ago  Traveling to Asia for work? This city is its m...   \n",
       "8   5 Hours Ago  Hong Kong rises almost 2%, leading gains in As...   \n",
       "9   5 Hours Ago  CNBC Daily Open: Regional banks popped — but c...   \n",
       "11  6 Hours Ago  Cramer says investors need to take 'longer vie...   \n",
       "12  6 Hours Ago  Stock futures are flat ahead of key Fed policy...   \n",
       "14  7 Hours Ago  Registries in the carbon offset market are all...   \n",
       "\n",
       "                                                 Link  \n",
       "0   https://www.cnbc.com/2023/03/21/what-does-chin...  \n",
       "1   https://www.cnbc.com/2023/03/22/virgin-orbit-r...  \n",
       "2   https://www.cnbc.com/2023/03/22/crypto-firms-l...  \n",
       "3   https://www.cnbc.com/2023/03/22/finland-gives-...  \n",
       "7   https://www.cnbc.com/2023/03/22/hong-kong-reta...  \n",
       "8   https://www.cnbc.com/2023/03/22/asia-markets-s...  \n",
       "9   https://www.cnbc.com/2023/03/22/stock-markets-...  \n",
       "11  https://www.cnbc.com/2023/03/21/jim-cramer-say...  \n",
       "12  https://www.cnbc.com/2023/03/21/stock-market-t...  \n",
       "14  https://www.cnbc.com/2023/03/21/registries-in-...  "
      ]
     },
     "execution_count": 18,
     "metadata": {},
     "output_type": "execute_result"
    }
   ],
   "source": [
    "new_df = df.drop(df.index[drop_lst])\n",
    "new_df\n",
    "new_df.to_csv('CNBC.csv')\n",
    "new_df.head(10)"
   ]
  }
 ],
 "metadata": {
  "kernelspec": {
   "display_name": "Python 3 (ipykernel)",
   "language": "python",
   "name": "python3"
  },
  "language_info": {
   "codemirror_mode": {
    "name": "ipython",
    "version": 3
   },
   "file_extension": ".py",
   "mimetype": "text/x-python",
   "name": "python",
   "nbconvert_exporter": "python",
   "pygments_lexer": "ipython3",
   "version": "3.10.8"
  },
  "name": "CNBC.ipynb"
 },
 "nbformat": 4,
 "nbformat_minor": 5
}
