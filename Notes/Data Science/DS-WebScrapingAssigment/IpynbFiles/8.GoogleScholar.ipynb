{
 "cells": [
  {
   "cell_type": "code",
   "execution_count": 1,
   "id": "505e535e-1414-4749-a7d1-4f6d63300f36",
   "metadata": {},
   "outputs": [],
   "source": [
    "import requests\n",
    "import pandas as pd\n",
    "from bs4 import BeautifulSoup"
   ]
  },
  {
   "cell_type": "code",
   "execution_count": 2,
   "id": "fff57b8e-8da1-4773-b253-7de160936d19",
   "metadata": {},
   "outputs": [],
   "source": [
    "URL = \"https://scholar.google.com/citations?view_op=top_venues&h1=en\"\n",
    "header = {'User-Agent': \"Mozilla/5.0 (Macintosh; Intel Mac OS X 10_15_7) AppleWebKit/537.36 (KHTML, like Gecko) Chrome/96.0.4664.110 Safari/537.36\"}"
   ]
  },
  {
   "cell_type": "code",
   "execution_count": 3,
   "id": "4561c0b8-2bef-40c0-8d16-ebf680a520c6",
   "metadata": {},
   "outputs": [],
   "source": [
    "page = requests.get(URL, headers=header)\n",
    "soup = BeautifulSoup(page.content, 'html.parser')"
   ]
  },
  {
   "cell_type": "code",
   "execution_count": 6,
   "id": "e01a266b-1a49-4c2b-9cae-09b1442af37c",
   "metadata": {},
   "outputs": [],
   "source": [
    "table_rows = soup.find('table', class_=\"gsc_mp_table\").find_all('tr')\n",
    "lst = []\n",
    "for table in table_rows[1:]:\n",
    "    rank = table.find('td', \"gsc_mvt_p\").contents[0]\n",
    "    publication = table.find('td', \"gsc_mvt_t\").contents[0]\n",
    "    h5 = table.find_all(\"td\", \"gsc_mvt_n\")\n",
    "    h5_index = h5[0].find('a').contents[0]\n",
    "    h5_median = h5[1].find('span').contents[0]\n",
    "    lst.append([rank, publication, h5_index, h5_median])"
   ]
  },
  {
   "cell_type": "code",
   "execution_count": 7,
   "id": "a06187ff-e7b0-4be5-81b8-fdb0b59d9e8c",
   "metadata": {},
   "outputs": [
    {
     "name": "stdout",
     "output_type": "stream",
     "text": [
      "  Rank                                        Publicaiton h5-index h5-median\n",
      "0   1.                                             Nature      444       667\n",
      "1   2.                The New England Journal of Medicine      432       780\n",
      "2   3.                                            Science      401       614\n",
      "3   4.  IEEE/CVF Conference on Computer Vision and Pat...      389       627\n",
      "4   5.                                         The Lancet      354       635\n",
      "5   6.                                 Advanced Materials      312       418\n",
      "6   7.                              Nature Communications      307       428\n",
      "7   8.                                               Cell      300       505\n",
      "8   9.  International Conference on Learning Represent...      286       533\n",
      "9  10.              Neural Information Processing Systems      278       436\n"
     ]
    }
   ],
   "source": [
    "df = pd.DataFrame(lst, columns=[\"Rank\", \"Publicaiton\", \"h5-index\", \"h5-median\"])\n",
    "df.to_csv('GoogleScholar.csv')\n",
    "print(df.head(10))"
   ]
  },
  {
   "cell_type": "code",
   "execution_count": null,
   "id": "fe00addc-2647-429f-a821-d7d097a4d5dc",
   "metadata": {},
   "outputs": [],
   "source": []
  }
 ],
 "metadata": {
  "kernelspec": {
   "display_name": "Python 3 (ipykernel)",
   "language": "python",
   "name": "python3"
  },
  "language_info": {
   "codemirror_mode": {
    "name": "ipython",
    "version": 3
   },
   "file_extension": ".py",
   "mimetype": "text/x-python",
   "name": "python",
   "nbconvert_exporter": "python",
   "pygments_lexer": "ipython3",
   "version": "3.10.8"
  }
 },
 "nbformat": 4,
 "nbformat_minor": 5
}
