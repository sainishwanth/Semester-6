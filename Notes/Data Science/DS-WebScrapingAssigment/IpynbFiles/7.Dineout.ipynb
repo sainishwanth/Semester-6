{
 "cells": [
  {
   "cell_type": "code",
   "execution_count": 1,
   "id": "78be2846-217a-47b7-a8ec-d007cc456d32",
   "metadata": {},
   "outputs": [],
   "source": [
    "import pandas as pd\n",
    "import requests\n",
    "from bs4 import BeautifulSoup"
   ]
  },
  {
   "cell_type": "code",
   "execution_count": 2,
   "id": "8fd66b47-6aec-4305-b91c-9a64b7937546",
   "metadata": {},
   "outputs": [],
   "source": [
    "URL = \"https://www.dineout.co.in/bangalore-restaurants/welcome-back\"\n",
    "header = {'User-Agent': \"Mozilla/5.0 (Macintosh; Intel Mac OS X 10_15_7) AppleWebKit/537.36 (KHTML, like Gecko) Chrome/96.0.4664.110 Safari/537.36\"}"
   ]
  },
  {
   "cell_type": "code",
   "execution_count": 3,
   "id": "ee667490-5d65-4917-b909-19cb7505f2d7",
   "metadata": {},
   "outputs": [],
   "source": [
    "page = requests.get(URL, headers=header)\n",
    "soup = BeautifulSoup(page.content, 'html.parser')"
   ]
  },
  {
   "cell_type": "code",
   "execution_count": 4,
   "id": "63128c29-2b6f-4b08-930f-3dd1abf37569",
   "metadata": {},
   "outputs": [],
   "source": [
    "restaurant_main_div = soup.find(\"div\", class_=\"restnt-card-wrap-new\")\n",
    "lst = []\n",
    "for restaurant in restaurant_main_div.find_all(\"div\", \"restnt-card restaurant\"):\n",
    "    name = restaurant.find('a', class_=\"restnt-name ellipsis\").contents[0]\n",
    "    location = restaurant.find('div', \"restnt-loc ellipsis\").find_all('a')\n",
    "    cuisine = restaurant.find(\"div\", \"detail-info\").find_all('a')\n",
    "    try:\n",
    "        ratings = restaurant.find('div', \"restnt-rating rating-4\").contents[0]\n",
    "    except AttributeError:\n",
    "        ratings = restaurant.find('div', \"restnt-rating rating-5\").contents[0]\n",
    "    image_url = restaurant.find('img', \"no-img\")[\"data-src\"]\n",
    "    loc_list, food_list = [loco.contents[0] for loco in location], [foo.contents[0] for foo in cuisine]\n",
    "    loc, food = \",\".join(loc_list), \",\".join(food_list)\n",
    "    lst.append([name, food, loc, ratings, image_url])"
   ]
  },
  {
   "cell_type": "code",
   "execution_count": 5,
   "id": "b3fa3893-9295-4ee6-a14e-4b0618cedc53",
   "metadata": {},
   "outputs": [
    {
     "name": "stdout",
     "output_type": "stream",
     "text": [
      "                                 Name                                 Cuisine  \\\n",
      "0  The Bier Library Brewery & Kitchen    Continental,Finger Food,North Indian   \n",
      "1                        Uru Brewpark  North Indian,Italian,Continental,Asian   \n",
      "2                  The Bangalore Cafe      Continental,North Indian,Fast Food   \n",
      "3                      Hard Rock Cafe        Continental,American,Finger Food   \n",
      "4                             Toscano                                 Italian   \n",
      "5                             Sanchez                                 Mexican   \n",
      "6                       Spice Terrace                    North Indian,Mughlai   \n",
      "7                            Hammered        Finger Food,Italian,North Indian   \n",
      "8                         Cafe Azzure    Continental,Italian,Desserts,Bengali   \n",
      "9                          Biergarten                    Continental,European   \n",
      "\n",
      "                                            Location Ratings  \\\n",
      "0                        Koramangala,South Bangalore     4.4   \n",
      "1                           JP Nagar,South Bangalore     4.4   \n",
      "2                     Shanti Nagar,Central Bangalore     4.3   \n",
      "3                   St. Marks Road,Central Bangalore     4.4   \n",
      "4      UB City,,Vittal Mallya Road,Central Bangalore     4.5   \n",
      "5      UB City,,Vittal Mallya Road,Central Bangalore     4.3   \n",
      "6  JW Marriott Hotel,,Vittal Mallya Road,Central ...     4.2   \n",
      "7                  Cunningham Road,Central Bangalore     4.3   \n",
      "8                          MG Road,Central Bangalore     4.3   \n",
      "9                        Koramangala,South Bangalore     4.4   \n",
      "\n",
      "                                           Image URL  \n",
      "0  https://im1.dineout.co.in/images/uploads/resta...  \n",
      "1  https://im1.dineout.co.in/images/uploads/resta...  \n",
      "2  https://im1.dineout.co.in/images/uploads/resta...  \n",
      "3  https://im1.dineout.co.in/images/uploads/resta...  \n",
      "4  https://im1.dineout.co.in/images/uploads/resta...  \n",
      "5  https://im1.dineout.co.in/images/uploads/resta...  \n",
      "6  https://im1.dineout.co.in/images/uploads/resta...  \n",
      "7  https://im1.dineout.co.in/images/uploads/resta...  \n",
      "8  https://im1.dineout.co.in/images/uploads/resta...  \n",
      "9  https://im1.dineout.co.in/images/uploads/resta...  \n"
     ]
    }
   ],
   "source": [
    "df = pd.DataFrame(lst, columns=[\"Name\", \"Cuisine\", \"Location\", \"Ratings\", \"Image URL\"])\n",
    "df.to_csv('dineout.csv')\n",
    "print(df.head(10))"
   ]
  },
  {
   "cell_type": "code",
   "execution_count": null,
   "id": "a055e160-da3d-47d9-9609-73cf1e9415f5",
   "metadata": {},
   "outputs": [],
   "source": []
  }
 ],
 "metadata": {
  "kernelspec": {
   "display_name": "Python 3 (ipykernel)",
   "language": "python",
   "name": "python3"
  },
  "language_info": {
   "codemirror_mode": {
    "name": "ipython",
    "version": 3
   },
   "file_extension": ".py",
   "mimetype": "text/x-python",
   "name": "python",
   "nbconvert_exporter": "python",
   "pygments_lexer": "ipython3",
   "version": "3.10.8"
  }
 },
 "nbformat": 4,
 "nbformat_minor": 5
}
