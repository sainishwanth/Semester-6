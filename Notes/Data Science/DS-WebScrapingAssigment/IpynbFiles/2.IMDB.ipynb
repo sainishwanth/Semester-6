{
 "cells": [
  {
   "cell_type": "code",
   "execution_count": 1,
   "id": "e017626b-8a65-443e-a7d1-443e70d904a0",
   "metadata": {},
   "outputs": [],
   "source": [
    "import requests\n",
    "import pandas as pd\n",
    "from bs4 import BeautifulSoup"
   ]
  },
  {
   "cell_type": "code",
   "execution_count": 2,
   "id": "4871fb57-aa47-4a99-a950-e4ee209418bf",
   "metadata": {},
   "outputs": [],
   "source": [
    "URLS = [\"https://www.imdb.com/search/title/?groups=top_100&sort=user_rating,desc\" ,\"https://www.imdb.com/search/title/?groups=top_100&sort=user_rating,desc&start=51&ref_=adv_nxt\"]\n",
    "\n",
    "header = {'User-Agent': \"Mozilla/5.0 (Macintosh; Intel Mac OS X 10_15_7) AppleWebKit/537.36 (KHTML, like Gecko) Chrome/96.0.4664.110 Safari/537.36\"}"
   ]
  },
  {
   "cell_type": "code",
   "execution_count": 3,
   "id": "234f73a4-ef53-4847-bb83-789e32c74393",
   "metadata": {},
   "outputs": [
    {
     "name": "stdout",
     "output_type": "stream",
     "text": [
      "https://www.imdb.com/search/title/?groups=top_100&sort=user_rating,desc\n",
      "https://www.imdb.com/search/title/?groups=top_100&sort=user_rating,desc&start=51&ref_=adv_nxt\n"
     ]
    }
   ],
   "source": [
    "lst = []\n",
    "for url in URLS:\n",
    "    print(url)\n",
    "    page = requests.get(url)\n",
    "    soup = BeautifulSoup(page.content, 'html.parser')\n",
    "    mainHead = soup.findAll(\"div\", class_ = \"lister-item mode-advanced\")\n",
    "    for i in mainHead:\n",
    "        header = i.find(\"h3\", \"lister-item-header\")\n",
    "        name = header.find('a')\n",
    "        rating = i.find(\"div\", \"inline-block ratings-imdb-rating\").attrs.get(\"data-value\", None)\n",
    "        year = i.find(\"span\", \"lister-item-year text-muted unbold\")\n",
    "        lst.append([name.contents[0], rating, year.contents[0][1:5]])"
   ]
  },
  {
   "cell_type": "code",
   "execution_count": 4,
   "id": "5b923de4-888e-4181-99af-c0c8cd4fb99d",
   "metadata": {},
   "outputs": [
    {
     "data": {
      "text/plain": [
       "<bound method NDFrame.head of                                              Name Rating  Year\n",
       "0                        The Shawshank Redemption    9.3  1994\n",
       "1                                   The Godfather    9.2  1972\n",
       "2                                 The Dark Knight      9  2008\n",
       "3   The Lord of the Rings: The Return of the King      9  2003\n",
       "4                                Schindler's List      9  1993\n",
       "..                                            ...    ...   ...\n",
       "95                                          Ikiru    8.3  1952\n",
       "96                                        Vertigo    8.3  1958\n",
       "97                            Singin' in the Rain    8.3  1952\n",
       "98                             North by Northwest    8.3  1959\n",
       "99              M - Eine Stadt sucht einen Mörder    8.3  1931\n",
       "\n",
       "[100 rows x 3 columns]>"
      ]
     },
     "execution_count": 4,
     "metadata": {},
     "output_type": "execute_result"
    }
   ],
   "source": [
    "df = pd.DataFrame(lst, columns=[\"Name\", \"Rating\", \"Year\"])\n",
    "df.to_csv('IMDB.csv')\n",
    "df.head"
   ]
  },
  {
   "cell_type": "code",
   "execution_count": null,
   "id": "36e7d974-7167-4af0-bad2-779152719d8a",
   "metadata": {},
   "outputs": [],
   "source": []
  }
 ],
 "metadata": {
  "kernelspec": {
   "display_name": "Python 3 (ipykernel)",
   "language": "python",
   "name": "python3"
  },
  "language_info": {
   "codemirror_mode": {
    "name": "ipython",
    "version": 3
   },
   "file_extension": ".py",
   "mimetype": "text/x-python",
   "name": "python",
   "nbconvert_exporter": "python",
   "pygments_lexer": "ipython3",
   "version": "3.10.8"
  }
 },
 "nbformat": 4,
 "nbformat_minor": 5
}
