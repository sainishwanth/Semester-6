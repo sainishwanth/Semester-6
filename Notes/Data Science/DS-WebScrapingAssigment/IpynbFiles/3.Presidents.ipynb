{
 "cells": [
  {
   "cell_type": "code",
   "execution_count": 1,
   "id": "d6c9877e-97e4-47e3-a29a-c6e43dead75e",
   "metadata": {},
   "outputs": [],
   "source": [
    "import requests\n",
    "from bs4 import BeautifulSoup"
   ]
  },
  {
   "cell_type": "code",
   "execution_count": 4,
   "id": "323c2d03-81b4-49c4-8032-119c31be650c",
   "metadata": {},
   "outputs": [],
   "source": [
    "URL = \"https://presidentofindia.nic.in/former-presidents.htm\"\n",
    "header = {'User-Agent': \"Mozilla/5.0 (Macintosh; Intel Mac OS X 10_15_7) AppleWebKit/537.36 (KHTML, like Gecko) Chrome/96.0.4664.110 Safari/537.36\"}"
   ]
  },
  {
   "cell_type": "code",
   "execution_count": 5,
   "id": "38f6fa11-443d-49c4-87ac-3b3f4d0c90f4",
   "metadata": {},
   "outputs": [],
   "source": [
    "page = requests.get(url=URL, headers=header)\n",
    "soup = BeautifulSoup(page.content, 'html.parser')"
   ]
  },
  {
   "cell_type": "code",
   "execution_count": 6,
   "id": "96be3fcd-2ac5-4fd7-9de4-e93523fb6df6",
   "metadata": {},
   "outputs": [
    {
     "name": "stdout",
     "output_type": "stream",
     "text": [
      "Shri Ram Nath Kovind (birth - 1945)\n",
      "Shri Pranab Mukherjee (1935-2020)\n",
      "Smt Pratibha Devisingh Patil (birth - 1934)\n",
      "DR. A.P.J. Abdul Kalam (1931-2015)\n",
      "Shri K. R. Narayanan (1920 - 2005)\n",
      "Dr Shankar Dayal Sharma (1918-1999)\n",
      "Shri R Venkataraman (1910-2009)\n",
      "Giani Zail Singh (1916-1994)\n",
      "Shri Neelam Sanjiva Reddy (1913-1996)\n",
      "Dr. Fakhruddin Ali Ahmed (1905-1977)\n",
      "Shri Varahagiri Venkata Giri (1894-1980)\n",
      "Dr. Zakir Husain (1897-1969)\n",
      "Dr. Sarvepalli Radhakrishnan (1888-1975)\n",
      "Dr. Rajendra Prasad (1884-1963) \n"
     ]
    }
   ],
   "source": [
    "divs_presidents = soup.find_all(\"div\", class_ = \"presidentListing\")\n",
    "for content in divs_presidents:\n",
    "    presidents = content.find_all('h3')\n",
    "    for president in presidents:\n",
    "        print(president.contents[0])"
   ]
  }
 ],
 "metadata": {
  "kernelspec": {
   "display_name": "Python 3 (ipykernel)",
   "language": "python",
   "name": "python3"
  },
  "language_info": {
   "codemirror_mode": {
    "name": "ipython",
    "version": 3
   },
   "file_extension": ".py",
   "mimetype": "text/x-python",
   "name": "python",
   "nbconvert_exporter": "python",
   "pygments_lexer": "ipython3",
   "version": "3.10.8"
  }
 },
 "nbformat": 4,
 "nbformat_minor": 5
}
