{
 "cells": [
  {
   "cell_type": "code",
   "execution_count": 8,
   "id": "232312ec-c645-4441-9918-593d474a580c",
   "metadata": {},
   "outputs": [],
   "source": [
    "import requests\n",
    "import pandas as pd\n",
    "from bs4 import BeautifulSoup"
   ]
  },
  {
   "cell_type": "code",
   "execution_count": 9,
   "id": "09f66c2c-af09-4063-bc63-a9899eb42055",
   "metadata": {},
   "outputs": [],
   "source": [
    "header = {'user-agent': \"mozilla/5.0 (macintosh; intel mac os x 10_15_7) applewebkit/537.36 (khtml, like gecko) chrome/96.0.4664.110 safari/537.36\"}\n",
    "URL = \"\"\n",
    "lst = []\n",
    "names = []"
   ]
  },
  {
   "cell_type": "code",
   "execution_count": 12,
   "id": "33a8c315-3088-4871-8d28-920777dc3541",
   "metadata": {},
   "outputs": [
    {
     "name": "stdin",
     "output_type": "stream",
     "text": [
      "1. Men's Cricket ODI Rantings\n",
      "2. Top 10 ODI Batsmen Records\n",
      "3. Top 10 ODI Bowler's Records:  1\n"
     ]
    }
   ],
   "source": [
    "choice = int(input(\"1. Men's Cricket ODI Rantings\\n2. Top 10 ODI Batsmen Records\\n3. Top 10 ODI Bowler's Records: \"))\n",
    "lst = []\n",
    "match choice:\n",
    "    case 1:\n",
    "        URL = \"https://www.icc-cricket.com/rankings/mens/team-rankings/odi\"\n",
    "        names = [\"Team\", \"Matches\", \"Points\", \"Rating\"]\n",
    "    case 2:\n",
    "        URL = \"https://www.icc-cricket.com/rankings/mens/player-rankings/odi/batting\"\n",
    "        names = [\"Player\", \"Team\", \"Rating\", \"Career Best Rating\"]\n",
    "    case 3:\n",
    "        URL = \"https://www.icc-cricket.com/rankings/mens/player-rankings/odi/bowling\"\n",
    "        names = [\"Player\", \"Team\", \"Rating\", \"Career Best Rating\"]\n",
    "\n",
    "    case _:\n",
    "        print(\"Invalid Input! Try Again\")"
   ]
  },
  {
   "cell_type": "code",
   "execution_count": 13,
   "id": "b52b890f-0b45-406c-bc11-88dc3b228924",
   "metadata": {},
   "outputs": [],
   "source": [
    "page = requests.get(URL, headers=header)\n",
    "soup = BeautifulSoup(page.content, 'html.parser')\n",
    "table = soup.find('table')\n",
    "table_rows = table.find_all('tr')[1:]"
   ]
  },
  {
   "cell_type": "code",
   "execution_count": 14,
   "id": "fdf3a315-5443-47e9-91ef-6b79446cf761",
   "metadata": {},
   "outputs": [],
   "source": [
    "for tr in table_rows[:10]:\n",
    "    td = tr.find_all('td')\n",
    "    row = [i.text.strip() for i in td if str(i)]\n",
    "    lst.append(row)"
   ]
  },
  {
   "cell_type": "code",
   "execution_count": 15,
   "id": "9bd5385b-0c41-48c3-9a92-6ede1729e476",
   "metadata": {},
   "outputs": [],
   "source": [
    "for i in lst:\n",
    "    try:\n",
    "        i.pop(0)\n",
    "    except:\n",
    "        continue"
   ]
  },
  {
   "cell_type": "code",
   "execution_count": 16,
   "id": "ccb2c87f-70eb-4cca-9052-14f2e004d986",
   "metadata": {},
   "outputs": [
    {
     "name": "stdout",
     "output_type": "stream",
     "text": [
      "               Team Matches Points Rating\n",
      "0        India\\nIND      44  5,010    114\n",
      "1    Australia\\nAUS      32  3,572    112\n",
      "2   New Zealand\\nNZ      29  3,229    111\n",
      "3      England\\nENG      36  3,988    111\n",
      "4     Pakistan\\nPAK      25  2,649    106\n",
      "5  South Africa\\nSA      27  2,775    103\n",
      "6   Bangladesh\\nBAN      36  3,415     95\n",
      "7     Sri Lanka\\nSL      34  2,976     88\n",
      "8  Afghanistan\\nAFG      20  1,419     71\n",
      "9   West Indies\\nWI      41  2,902     71\n"
     ]
    }
   ],
   "source": [
    "df = pd.DataFrame(lst,columns=names)\n",
    "df.to_csv('ICC.csv')\n",
    "print(df)"
   ]
  },
  {
   "cell_type": "code",
   "execution_count": null,
   "id": "8568c870-830c-4c88-87b5-87f1c308f081",
   "metadata": {},
   "outputs": [],
   "source": []
  }
 ],
 "metadata": {
  "kernelspec": {
   "display_name": "Python 3 (ipykernel)",
   "language": "python",
   "name": "python3"
  },
  "language_info": {
   "codemirror_mode": {
    "name": "ipython",
    "version": 3
   },
   "file_extension": ".py",
   "mimetype": "text/x-python",
   "name": "python",
   "nbconvert_exporter": "python",
   "pygments_lexer": "ipython3",
   "version": "3.10.8"
  }
 },
 "nbformat": 4,
 "nbformat_minor": 5
}
